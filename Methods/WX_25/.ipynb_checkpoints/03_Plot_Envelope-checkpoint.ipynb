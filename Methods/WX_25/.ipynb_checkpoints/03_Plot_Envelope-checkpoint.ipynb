{
 "cells": [
  {
   "cell_type": "markdown",
   "id": "c33929b6-c749-43f6-9bb9-c234fb81efcc",
   "metadata": {},
   "source": [
    "- [ ] Load and set corrector dipole settings\n",
    "- [ ] Load and set trim quad tune and harmonic settings\n",
    "- [ ] Plot the ideal orbit provided a beam emittance"
   ]
  }
 ],
 "metadata": {
  "kernelspec": {
   "display_name": "Python 3 (ipykernel)",
   "language": "python",
   "name": "python3"
  },
  "language_info": {
   "codemirror_mode": {
    "name": "ipython",
    "version": 3
   },
   "file_extension": ".py",
   "mimetype": "text/x-python",
   "name": "python",
   "nbconvert_exporter": "python",
   "pygments_lexer": "ipython3",
   "version": "3.13.5"
  }
 },
 "nbformat": 4,
 "nbformat_minor": 5
}
